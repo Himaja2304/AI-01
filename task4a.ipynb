{
  "nbformat": 4,
  "nbformat_minor": 0,
  "metadata": {
    "colab": {
      "provenance": [],
      "authorship_tag": "ABX9TyNvrFaKr+s5og7UFJHKCbMz",
      "include_colab_link": true
    },
    "kernelspec": {
      "name": "python3",
      "display_name": "Python 3"
    },
    "language_info": {
      "name": "python"
    }
  },
  "cells": [
    {
      "cell_type": "markdown",
      "metadata": {
        "id": "view-in-github",
        "colab_type": "text"
      },
      "source": [
        "<a href=\"https://colab.research.google.com/github/Himaja2304/AI-01/blob/main/task4a.ipynb\" target=\"_parent\"><img src=\"https://colab.research.google.com/assets/colab-badge.svg\" alt=\"Open In Colab\"/></a>"
      ]
    },
    {
      "cell_type": "code",
      "execution_count": 1,
      "metadata": {
        "colab": {
          "base_uri": "https://localhost:8080/"
        },
        "id": "b_BlgrHVG5zr",
        "outputId": "bf8aff94-465b-425b-8223-f1bf729aa9c6"
      },
      "outputs": [
        {
          "output_type": "stream",
          "name": "stdout",
          "text": [
            "Initial Environment:\n",
            "1 2 3\n",
            "0 0 0\n",
            "0 0 0\n",
            "\n",
            "\n",
            "Path to the banana: [(0, 0)]\n"
          ]
        }
      ],
      "source": [
        "import random\n",
        "from queue import Queue\n",
        "\n",
        "# Constants\n",
        "GRID_SIZE = 3\n",
        "EMPTY, BANANA, MONKEY, OBSTACLE, TOOL = 0, 1, 2, 3, 4\n",
        "\n",
        "# Initialize the grid\n",
        "def initialize_single_agent_environment():\n",
        "    grid = [[EMPTY for _ in range(GRID_SIZE)] for _ in range(GRID_SIZE)]\n",
        "    # Place banana\n",
        "    bx, by = random.randint(0, GRID_SIZE - 1), random.randint(0, GRID_SIZE - 1)\n",
        "    grid[bx][by] = BANANA\n",
        "    # Place monkey\n",
        "    mx, my = random.randint(0, GRID_SIZE - 1), random.randint(0, GRID_SIZE - 1)\n",
        "    grid[mx][my] = MONKEY\n",
        "    # Place obstacles\n",
        "    for _ in range(3):\n",
        "        ox, oy = random.randint(0, GRID_SIZE - 1), random.randint(0, GRID_SIZE - 1)\n",
        "        if grid[ox][oy] == EMPTY:\n",
        "            grid[ox][oy] = OBSTACLE\n",
        "    return grid, (mx, my), (bx, by)\n",
        "\n",
        "# Display the grid\n",
        "def display_grid(grid):\n",
        "    for row in grid:\n",
        "        print(\" \".join(str(cell) for cell in row))\n",
        "    print(\"\\n\")\n",
        "\n",
        "# Find the shortest path using BFS\n",
        "def find_path(grid, start, goal):\n",
        "    directions = [(-1, 0), (1, 0), (0, -1), (0, 1)]  # Up, Down, Left, Right\n",
        "    queue = Queue()\n",
        "    queue.put((start, []))  # (position, path)\n",
        "    visited = set()\n",
        "    visited.add(start)\n",
        "\n",
        "    while not queue.empty():\n",
        "        current, path = queue.get()\n",
        "        if current == goal:\n",
        "            return path\n",
        "\n",
        "        for dx, dy in directions:\n",
        "            nx, ny = current[0] + dx, current[1] + dy\n",
        "            if 0 <= nx < GRID_SIZE and 0 <= ny < GRID_SIZE and (nx, ny) not in visited:\n",
        "                if grid[nx][ny] != OBSTACLE:\n",
        "                    queue.put(((nx, ny), path + [(nx, ny)]))\n",
        "                    visited.add((nx, ny))\n",
        "    return None\n",
        "\n",
        "# Single-agent simulation\n",
        "def single_agent_simulation():\n",
        "    grid, monkey_pos, banana_pos = initialize_single_agent_environment()\n",
        "    print(\"Initial Environment:\")\n",
        "    display_grid(grid)\n",
        "\n",
        "    path = find_path(grid, monkey_pos, banana_pos)\n",
        "    if path:\n",
        "        print(f\"Path to the banana: {path}\")\n",
        "    else:\n",
        "        print(\"No path to the banana!\")\n",
        "\n",
        "single_agent_simulation()"
      ]
    }
  ]
}