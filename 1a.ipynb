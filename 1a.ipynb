{
  "nbformat": 4,
  "nbformat_minor": 0,
  "metadata": {
    "colab": {
      "provenance": [],
      "authorship_tag": "ABX9TyN4iK3wghOnDZiwyB5d2BAy",
      "include_colab_link": true
    },
    "kernelspec": {
      "name": "python3",
      "display_name": "Python 3"
    },
    "language_info": {
      "name": "python"
    }
  },
  "cells": [
    {
      "cell_type": "markdown",
      "metadata": {
        "id": "view-in-github",
        "colab_type": "text"
      },
      "source": [
        "<a href=\"https://colab.research.google.com/github/Himaja2304/AI-01/blob/main/1a.ipynb\" target=\"_parent\"><img src=\"https://colab.research.google.com/assets/colab-badge.svg\" alt=\"Open In Colab\"/></a>"
      ]
    },
    {
      "cell_type": "code",
      "execution_count": 1,
      "metadata": {
        "colab": {
          "base_uri": "https://localhost:8080/"
        },
        "id": "jpZF6s8DDxWu",
        "outputId": "2a974ac6-4d9c-4a60-a661-b4f5242260e0"
      },
      "outputs": [
        {
          "output_type": "stream",
          "name": "stdout",
          "text": [
            "Current state: {'A': 'Dirty', 'B': 'Dirty', 'C': 'Dirty', 'D': 'Dirty'}\n",
            "Cleaning room A.\n",
            "Current state: {'A': 'Clean', 'B': 'Dirty', 'C': 'Dirty', 'D': 'Dirty'}\n",
            "Moving Right from room A.\n",
            "Current state: {'A': 'Clean', 'B': 'Dirty', 'C': 'Dirty', 'D': 'Dirty'}\n",
            "Cleaning room B.\n",
            "Current state: {'A': 'Clean', 'B': 'Clean', 'C': 'Dirty', 'D': 'Dirty'}\n",
            "Moving Down from room B.\n",
            "Current state: {'A': 'Clean', 'B': 'Clean', 'C': 'Dirty', 'D': 'Dirty'}\n",
            "Cleaning room C.\n",
            "Current state: {'A': 'Clean', 'B': 'Clean', 'C': 'Clean', 'D': 'Dirty'}\n",
            "Moving Right from room C.\n",
            "Current state: {'A': 'Clean', 'B': 'Clean', 'C': 'Clean', 'D': 'Dirty'}\n",
            "Cleaning room D.\n",
            "All rooms are clean!\n"
          ]
        }
      ],
      "source": [
        "class CleaningAgent:\n",
        "    def __init__(self):\n",
        "        # Define the table with possible actions based on current room and its state\n",
        "        self.table = {\n",
        "            ('A', 'Dirty'): 'Suck',\n",
        "            ('A', 'Clean'): 'Right',\n",
        "            ('B', 'Dirty'): 'Suck',\n",
        "            ('B', 'Clean'): 'Down',\n",
        "            ('C', 'Dirty'): 'Suck',\n",
        "            ('C', 'Clean'): 'Right',\n",
        "            ('D', 'Dirty'): 'Suck',\n",
        "            ('D', 'Clean'): 'Up',\n",
        "        }\n",
        "        self.current_room = 'A'  # Starting room\n",
        "\n",
        "    def perceive(self, room_state):\n",
        "        \"\"\"Get the current room state (clean or dirty).\"\"\"\n",
        "        return room_state[self.current_room]\n",
        "\n",
        "    def act(self, room_state):\n",
        "        \"\"\"Perform an action based on the table.\"\"\"\n",
        "        # Perceive the state of the current room\n",
        "        current_state = self.perceive(room_state)\n",
        "        # Look up the action in the table\n",
        "        action = self.table[(self.current_room, current_state)]\n",
        "\n",
        "        # Perform the action\n",
        "        if action == 'Suck':\n",
        "            print(f\"Cleaning room {self.current_room}.\")\n",
        "            room_state[self.current_room] = 'Clean'\n",
        "        else:\n",
        "            print(f\"Moving {action} from room {self.current_room}.\")\n",
        "            self.current_room = self.move(action)\n",
        "\n",
        "    def move(self, direction):\n",
        "        \"\"\"Move to a new room based on the direction.\"\"\"\n",
        "        moves = {\n",
        "            'A': {'Right': 'B'},\n",
        "            'B': {'Down': 'C', 'Left': 'A'},\n",
        "            'C': {'Right': 'D', 'Up': 'B'},\n",
        "            'D': {'Left': 'C'},\n",
        "        }\n",
        "        return moves[self.current_room][direction]\n",
        "\n",
        "# Environment setup\n",
        "room_states = {\n",
        "    'A': 'Dirty',\n",
        "    'B': 'Dirty',\n",
        "    'C': 'Dirty',\n",
        "    'D': 'Dirty',\n",
        "}\n",
        "\n",
        "# Create agent\n",
        "agent = CleaningAgent()\n",
        "\n",
        "# Run the agent\n",
        "for _ in range(10):  # Limit to 10 steps\n",
        "    print(f\"Current state: {room_states}\")\n",
        "    agent.act(room_states)\n",
        "    if all(state == 'Clean' for state in room_states.values()):\n",
        "        print(\"All rooms are clean!\")\n",
        "        break"
      ]
    }
  ]
}