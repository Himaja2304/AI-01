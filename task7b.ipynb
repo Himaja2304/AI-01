{
  "nbformat": 4,
  "nbformat_minor": 0,
  "metadata": {
    "colab": {
      "provenance": [],
      "authorship_tag": "ABX9TyPUnG94590IO7/LS/pyrFyw",
      "include_colab_link": true
    },
    "kernelspec": {
      "name": "python3",
      "display_name": "Python 3"
    },
    "language_info": {
      "name": "python"
    }
  },
  "cells": [
    {
      "cell_type": "markdown",
      "metadata": {
        "id": "view-in-github",
        "colab_type": "text"
      },
      "source": [
        "<a href=\"https://colab.research.google.com/github/Himaja2304/AI-01/blob/main/task7b.ipynb\" target=\"_parent\"><img src=\"https://colab.research.google.com/assets/colab-badge.svg\" alt=\"Open In Colab\"/></a>"
      ]
    },
    {
      "cell_type": "code",
      "execution_count": 1,
      "metadata": {
        "colab": {
          "base_uri": "https://localhost:8080/"
        },
        "id": "EQ6gxA5wIwqO",
        "outputId": "bd199c62-60eb-44a3-9af0-2559cfaa8bf6"
      },
      "outputs": [
        {
          "output_type": "stream",
          "name": "stdout",
          "text": [
            "Q . . . . . . .\n",
            ". . . . Q . . .\n",
            ". . . . . . . Q\n",
            ". . . . . Q . .\n",
            ". . Q . . . . .\n",
            ". . . . . . Q .\n",
            ". Q . . . . . .\n",
            ". . . Q . . . .\n",
            "\n",
            "\n"
          ]
        }
      ],
      "source": [
        "def print_solution(board):\n",
        "    for row in board:\n",
        "        print(\" \".join(\"Q\" if col else \".\" for col in row))\n",
        "    print(\"\\n\")\n",
        "\n",
        "def is_safe(board, row, col, n):\n",
        "    # Check column\n",
        "    for i in range(row):\n",
        "        if board[i][col] == 1:\n",
        "            return False\n",
        "\n",
        "    # Check upper-left diagonal\n",
        "    for i, j in zip(range(row, -1, -1), range(col, -1, -1)):\n",
        "        if board[i][j] == 1:\n",
        "            return False\n",
        "\n",
        "    # Check upper-right diagonal\n",
        "    for i, j in zip(range(row, -1, -1), range(col, n)):\n",
        "        if board[i][j] == 1:\n",
        "            return False\n",
        "\n",
        "    return True\n",
        "\n",
        "def solve_n_queens(board, row, n):\n",
        "    if row == n:  # All queens are placed successfully\n",
        "        print_solution(board)\n",
        "        return True\n",
        "\n",
        "    for col in range(n):\n",
        "        if is_safe(board, row, col, n):\n",
        "            board[row][col] = 1  # Place queen\n",
        "            if solve_n_queens(board, row + 1, n):  # Place next queen\n",
        "                return True  # Return when a valid solution is found\n",
        "            board[row][col] = 0  # Backtrack if no solution found\n",
        "\n",
        "    return False  # No valid position in this row\n",
        "\n",
        "def n_queens(n):\n",
        "    board = [[0] * n for _ in range(n)]\n",
        "    if not solve_n_queens(board, 0, n):\n",
        "        print(\"No solution exists.\")\n",
        "\n",
        "# Run for 8-Queens Problem\n",
        "n_queens(8)"
      ]
    }
  ]
}