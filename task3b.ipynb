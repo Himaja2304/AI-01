{
  "nbformat": 4,
  "nbformat_minor": 0,
  "metadata": {
    "colab": {
      "provenance": [],
      "authorship_tag": "ABX9TyMTAT8KmK/YrkpYs/kctjES",
      "include_colab_link": true
    },
    "kernelspec": {
      "name": "python3",
      "display_name": "Python 3"
    },
    "language_info": {
      "name": "python"
    }
  },
  "cells": [
    {
      "cell_type": "markdown",
      "metadata": {
        "id": "view-in-github",
        "colab_type": "text"
      },
      "source": [
        "<a href=\"https://colab.research.google.com/github/Himaja2304/AI-01/blob/main/task3b.ipynb\" target=\"_parent\"><img src=\"https://colab.research.google.com/assets/colab-badge.svg\" alt=\"Open In Colab\"/></a>"
      ]
    },
    {
      "cell_type": "code",
      "execution_count": 1,
      "metadata": {
        "colab": {
          "base_uri": "https://localhost:8080/"
        },
        "id": "5kWIOEOdGd2H",
        "outputId": "a73534be-d4e1-419f-8415-aed2791348c3"
      },
      "outputs": [
        {
          "output_type": "stream",
          "name": "stdout",
          "text": [
            "DFS Traversal Path:\n",
            "A --> B --> D --> E --> H --> C --> F --> G\n",
            "\n",
            "Final Path: A --> B --> D --> E --> H --> C --> F --> G\n"
          ]
        }
      ],
      "source": [
        "# Function to perform DFS and display traversal with arrows\n",
        "def dfs(graph, start, visited=None, traversal_path=None):\n",
        "    if visited is None:\n",
        "        visited = set()\n",
        "    if traversal_path is None:\n",
        "        traversal_path = []\n",
        "\n",
        "    # Visit the starting node\n",
        "    visited.add(start)\n",
        "    traversal_path.append(start)\n",
        "\n",
        "    # Visit all unvisited neighbors\n",
        "    for neighbor in graph.get(start, []):\n",
        "        if neighbor not in visited:\n",
        "            dfs(graph, neighbor, visited, traversal_path)\n",
        "\n",
        "    return traversal_path\n",
        "\n",
        "# Example graph represented as an adjacency list\n",
        "graph = {\n",
        "    'A': ['B', 'C'],\n",
        "    'B': ['D', 'E'],\n",
        "    'C': ['F', 'G'],\n",
        "    'D': [],\n",
        "    'E': ['H'],\n",
        "    'F': [],\n",
        "    'G': [],\n",
        "    'H': []\n",
        "}\n",
        "\n",
        "# Run DFS from node 'A'\n",
        "traversal_path = dfs(graph, 'A')\n",
        "\n",
        "# Display the traversal path with arrows\n",
        "path_with_arrows = \" --> \".join(traversal_path)\n",
        "print(\"DFS Traversal Path:\")\n",
        "print(path_with_arrows)\n",
        "print(\"\\nFinal Path:\", path_with_arrows)"
      ]
    }
  ]
}