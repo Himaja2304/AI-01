{
  "nbformat": 4,
  "nbformat_minor": 0,
  "metadata": {
    "colab": {
      "provenance": [],
      "authorship_tag": "ABX9TyO+uZPkDw9edgmK69O8JV7m",
      "include_colab_link": true
    },
    "kernelspec": {
      "name": "python3",
      "display_name": "Python 3"
    },
    "language_info": {
      "name": "python"
    }
  },
  "cells": [
    {
      "cell_type": "markdown",
      "metadata": {
        "id": "view-in-github",
        "colab_type": "text"
      },
      "source": [
        "<a href=\"https://colab.research.google.com/github/Himaja2304/AI-01/blob/main/task2.ipynb\" target=\"_parent\"><img src=\"https://colab.research.google.com/assets/colab-badge.svg\" alt=\"Open In Colab\"/></a>"
      ]
    },
    {
      "cell_type": "code",
      "execution_count": 1,
      "metadata": {
        "colab": {
          "base_uri": "https://localhost:8080/"
        },
        "id": "gmqjo2xiFcDu",
        "outputId": "3aee82a5-c127-4da5-ad38-8f57645c734c"
      },
      "outputs": [
        {
          "output_type": "stream",
          "name": "stdout",
          "text": [
            "Solution steps:\n",
            "(0, 0)\n",
            "(3, 0)\n",
            "(3, 5)\n",
            "(0, 5)\n",
            "(3, 2)\n",
            "(0, 2)\n",
            "(2, 0)\n",
            "(2, 5)\n",
            "(3, 4)\n"
          ]
        }
      ],
      "source": [
        "# Function to perform DFS to solve the water jug problem\n",
        "def water_jug_dfs(capacity1, capacity2, target):\n",
        "    visited = set()  # To track visited states\n",
        "    path = []  # To store the solution path\n",
        "\n",
        "    def dfs(jug1, jug2):\n",
        "        # If we have already visited this state, return False (avoid cycles)\n",
        "        if (jug1, jug2) in visited:\n",
        "            return False\n",
        "\n",
        "        # Mark the state as visited\n",
        "        visited.add((jug1, jug2))\n",
        "\n",
        "        # Append the current state to the path\n",
        "        path.append((jug1, jug2))\n",
        "\n",
        "        # If the target is achieved in either jug, return True\n",
        "        if jug1 == target or jug2 == target:\n",
        "            return True\n",
        "\n",
        "        # Explore all possible transitions (DFS recursive calls)\n",
        "        # Fill 3-liter jug\n",
        "        if dfs(3, jug2):\n",
        "            return True\n",
        "        # Fill 5-liter jug\n",
        "        if dfs(jug1, 5):\n",
        "            return True\n",
        "        # Empty 3-liter jug\n",
        "        if dfs(0, jug2):\n",
        "            return True\n",
        "        # Empty 5-liter jug\n",
        "        if dfs(jug1, 0):\n",
        "            return True\n",
        "        # Pour water from 3-liter jug into 5-liter jug\n",
        "        if dfs(max(0, jug1 - (5 - jug2)), min(5, jug1 + jug2)):\n",
        "            return True\n",
        "        # Pour water from 5-liter jug into 3-liter jug\n",
        "        if dfs(min(3, jug1 + jug2), max(0, jug2 - (3 - jug1))):\n",
        "            return True\n",
        "\n",
        "        # If none of the transitions lead to the goal, backtrack\n",
        "        path.pop()\n",
        "        return False\n",
        "\n",
        "    # Start DFS from the initial state (0, 0)\n",
        "    dfs(0, 0)\n",
        "\n",
        "    # If we found a solution, return the path\n",
        "    return path\n",
        "\n",
        "# Example Usage\n",
        "capacity1 = 3  # Capacity of the 3-liter jug\n",
        "capacity2 = 5  # Capacity of the 5-liter jug\n",
        "target = 4     # Target amount to measure\n",
        "\n",
        "solution = water_jug_dfs(capacity1, capacity2, target)\n",
        "\n",
        "if solution:\n",
        "    print(\"Solution steps:\")\n",
        "    for step in solution:\n",
        "        print(step)\n",
        "else:\n",
        "    print(\"No solution found.\")\n",
        "\n"
      ]
    }
  ]
}