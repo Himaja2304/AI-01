{
  "nbformat": 4,
  "nbformat_minor": 0,
  "metadata": {
    "colab": {
      "provenance": [],
      "authorship_tag": "ABX9TyNvAfEoFN2ojl0zqRFVZnNA",
      "include_colab_link": true
    },
    "kernelspec": {
      "name": "python3",
      "display_name": "Python 3"
    },
    "language_info": {
      "name": "python"
    }
  },
  "cells": [
    {
      "cell_type": "markdown",
      "metadata": {
        "id": "view-in-github",
        "colab_type": "text"
      },
      "source": [
        "<a href=\"https://colab.research.google.com/github/Himaja2304/AI-01/blob/main/task3a.ipynb\" target=\"_parent\"><img src=\"https://colab.research.google.com/assets/colab-badge.svg\" alt=\"Open In Colab\"/></a>"
      ]
    },
    {
      "cell_type": "code",
      "execution_count": 1,
      "metadata": {
        "colab": {
          "base_uri": "https://localhost:8080/"
        },
        "id": "248wLaBKGNDj",
        "outputId": "a0b31d2b-4cb6-492f-87b9-4fb881a37941"
      },
      "outputs": [
        {
          "output_type": "stream",
          "name": "stdout",
          "text": [
            "BFS Traversal Path:\n",
            "A --> B --> C --> D --> E --> F --> G --> H\n",
            "\n",
            "Final Path: A --> B --> C --> D --> E --> F --> G --> H\n"
          ]
        }
      ],
      "source": [
        "from collections import deque\n",
        "\n",
        "# Function to perform BFS and display traversal with arrows\n",
        "def bfs(graph, start):\n",
        "    visited = set()\n",
        "    queue = deque([start])\n",
        "    traversal_path = []  # To store the traversal order\n",
        "\n",
        "    print(\"BFS Traversal Path:\")\n",
        "\n",
        "    while queue:\n",
        "        node = queue.popleft()\n",
        "        if node not in visited:\n",
        "            traversal_path.append(node)\n",
        "            visited.add(node)\n",
        "\n",
        "            for neighbor in graph.get(node, []):\n",
        "                if neighbor not in visited:\n",
        "                    queue.append(neighbor)\n",
        "\n",
        "    # Display the path with arrows\n",
        "    path_with_arrows = \" --> \".join(traversal_path)\n",
        "    print(path_with_arrows)\n",
        "    print(\"\\nFinal Path:\", path_with_arrows)\n",
        "\n",
        "# Example graph represented as an adjacency list\n",
        "graph = {\n",
        "    'A': ['B', 'C'],\n",
        "    'B': ['D', 'E'],\n",
        "    'C': ['F', 'G'],\n",
        "    'D': [],\n",
        "    'E': ['H'],\n",
        "    'F': [],\n",
        "    'G': [],\n",
        "    'H': []\n",
        "}\n",
        "\n",
        "# Run BFS from node 'A'\n",
        "bfs(graph, 'A')"
      ]
    }
  ]
}