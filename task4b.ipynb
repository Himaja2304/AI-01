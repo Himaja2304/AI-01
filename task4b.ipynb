{
  "nbformat": 4,
  "nbformat_minor": 0,
  "metadata": {
    "colab": {
      "provenance": [],
      "authorship_tag": "ABX9TyM30UWqI284ZKhdneHdy0cf",
      "include_colab_link": true
    },
    "kernelspec": {
      "name": "python3",
      "display_name": "Python 3"
    },
    "language_info": {
      "name": "python"
    }
  },
  "cells": [
    {
      "cell_type": "markdown",
      "metadata": {
        "id": "view-in-github",
        "colab_type": "text"
      },
      "source": [
        "<a href=\"https://colab.research.google.com/github/Himaja2304/AI-01/blob/main/task4b.ipynb\" target=\"_parent\"><img src=\"https://colab.research.google.com/assets/colab-badge.svg\" alt=\"Open In Colab\"/></a>"
      ]
    },
    {
      "cell_type": "code",
      "execution_count": 1,
      "metadata": {
        "id": "NlmmaKy9HSq_",
        "outputId": "fee763e0-feeb-47b7-a13b-ad8c56680f10",
        "colab": {
          "base_uri": "https://localhost:8080/"
        }
      },
      "outputs": [
        {
          "output_type": "stream",
          "name": "stdout",
          "text": [
            "Initial Environment:\n",
            "M1 M2 . . .\n",
            ". . . . .\n",
            ". . . . .\n",
            ". . . O O\n",
            ". . . . .\n",
            "\n",
            "Monkey 2 wins!\n"
          ]
        }
      ],
      "source": [
        "import random\n",
        "import time\n",
        "\n",
        "# Constants\n",
        "GRID_SIZE = 5\n",
        "EMPTY, BANANA, MONKEY1, MONKEY2, OBSTACLE, TOOL = 0, 1, 2, 3, 4, 5\n",
        "\n",
        "# Initialize the grid\n",
        "def initialize_multi_agent_environment():\n",
        "    grid = [[EMPTY for _ in range(GRID_SIZE)] for _ in range(GRID_SIZE)]\n",
        "    # Place banana\n",
        "    bx, by = random.randint(0, GRID_SIZE - 1), random.randint(0, GRID_SIZE - 1)\n",
        "    grid[bx][by] = BANANA\n",
        "    # Place monkeys\n",
        "    m1x, m1y = 0, 0\n",
        "    m2x, m2y = 0, 1\n",
        "    grid[m1x][m1y] = MONKEY1\n",
        "    grid[m2x][m2y] = MONKEY2\n",
        "    # Place obstacles\n",
        "    for _ in range(3):\n",
        "        ox, oy = random.randint(0, GRID_SIZE - 1), random.randint(0, GRID_SIZE - 1)\n",
        "        if grid[ox][oy] == EMPTY:\n",
        "            grid[ox][oy] = OBSTACLE\n",
        "    return grid, (m1x, m1y), (m2x, m2y), (bx, by)\n",
        "\n",
        "# Move monkey\n",
        "def move_monkey(grid, current, goal):\n",
        "    directions = [(-1, 0), (1, 0), (0, -1), (0, 1)]  # Up, Down, Left, Right\n",
        "    best_move = None\n",
        "    best_dist = float('inf')\n",
        "    for dx, dy in directions:\n",
        "        nx, ny = current[0] + dx, current[1] + dy\n",
        "        if 0 <= nx < GRID_SIZE and 0 <= ny < GRID_SIZE:\n",
        "            if grid[nx][ny] in {EMPTY, BANANA}:\n",
        "                dist = abs(goal[0] - nx) + abs(goal[1] - ny)\n",
        "                if dist < best_dist:\n",
        "                    best_dist = dist\n",
        "                    best_move = (nx, ny)\n",
        "    return best_move\n",
        "\n",
        "# Function to display the grid\n",
        "def display_grid(grid):\n",
        "    # Use a dictionary to represent the grid elements\n",
        "    representation = {EMPTY: \".\", BANANA: \"B\", MONKEY1: \"M1\", MONKEY2: \"M2\", OBSTACLE: \"O\", TOOL: \"T\"}\n",
        "\n",
        "    for row in grid:\n",
        "        print(\" \".join(representation[cell] for cell in row))\n",
        "    print()\n",
        "\n",
        "# Multi-agent simulation\n",
        "def multi_agent_simulation():\n",
        "    grid, m1_pos, m2_pos, banana_pos = initialize_multi_agent_environment()\n",
        "    print(\"Initial Environment:\")\n",
        "    display_grid(grid)\n",
        "\n",
        "    while True:\n",
        "        # Monkey 1 move\n",
        "        new_m1_pos = move_monkey(grid, m1_pos, banana_pos)\n",
        "        if new_m1_pos:\n",
        "            grid[m1_pos[0]][m1_pos[1]] = EMPTY\n",
        "            m1_pos = new_m1_pos\n",
        "            grid[m1_pos[0]][m1_pos[1]] = MONKEY1\n",
        "\n",
        "        # Check if Monkey 1 wins\n",
        "        if m1_pos == banana_pos:\n",
        "            print(\"Monkey 1 wins!\")\n",
        "            break\n",
        "\n",
        "        # Monkey 2 move\n",
        "        new_m2_pos = move_monkey(grid, m2_pos, banana_pos)\n",
        "        if new_m2_pos:\n",
        "            grid[m2_pos[0]][m2_pos[1]] = EMPTY\n",
        "            m2_pos = new_m2_pos\n",
        "            grid[m2_pos[0]][m2_pos[1]] = MONKEY2\n",
        "\n",
        "        # Check if Monkey 2 wins\n",
        "        if m2_pos == banana_pos:\n",
        "            print(\"Monkey 2 wins!\")\n",
        "            break\n",
        "\n",
        "        # Display grid\n",
        "        display_grid(grid)\n",
        "        time.sleep(1)\n",
        "\n",
        "multi_agent_simulation()"
      ]
    }
  ]
}