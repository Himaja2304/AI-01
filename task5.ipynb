{
  "nbformat": 4,
  "nbformat_minor": 0,
  "metadata": {
    "colab": {
      "provenance": [],
      "authorship_tag": "ABX9TyP4NL+9ndiPJdQeKC6Oi6t7",
      "include_colab_link": true
    },
    "kernelspec": {
      "name": "python3",
      "display_name": "Python 3"
    },
    "language_info": {
      "name": "python"
    }
  },
  "cells": [
    {
      "cell_type": "markdown",
      "metadata": {
        "id": "view-in-github",
        "colab_type": "text"
      },
      "source": [
        "<a href=\"https://colab.research.google.com/github/Himaja2304/AI-01/blob/main/task5.ipynb\" target=\"_parent\"><img src=\"https://colab.research.google.com/assets/colab-badge.svg\" alt=\"Open In Colab\"/></a>"
      ]
    },
    {
      "cell_type": "code",
      "execution_count": 1,
      "metadata": {
        "colab": {
          "base_uri": "https://localhost:8080/"
        },
        "id": "JwD5g9FLHmnH",
        "outputId": "1599b2e5-b6fb-4de9-d931-7ae00e38209f"
      },
      "outputs": [
        {
          "output_type": "stream",
          "name": "stdout",
          "text": [
            "Solution found:\n",
            "[[1 2 3]\n",
            " [5 6 0]\n",
            " [7 8 4]]\n",
            "[[1 2 3]\n",
            " [5 0 6]\n",
            " [7 8 4]]\n",
            "[[1 2 3]\n",
            " [0 5 6]\n",
            " [7 8 4]]\n",
            "[[1 2 3]\n",
            " [7 5 6]\n",
            " [0 8 4]]\n",
            "[[1 2 3]\n",
            " [7 5 6]\n",
            " [8 0 4]]\n",
            "[[1 2 3]\n",
            " [7 5 6]\n",
            " [8 4 0]]\n",
            "[[1 2 3]\n",
            " [7 5 0]\n",
            " [8 4 6]]\n",
            "[[1 2 3]\n",
            " [7 0 5]\n",
            " [8 4 6]]\n",
            "[[1 2 3]\n",
            " [7 4 5]\n",
            " [8 0 6]]\n",
            "[[1 2 3]\n",
            " [7 4 5]\n",
            " [0 8 6]]\n",
            "[[1 2 3]\n",
            " [0 4 5]\n",
            " [7 8 6]]\n",
            "[[1 2 3]\n",
            " [4 0 5]\n",
            " [7 8 6]]\n",
            "[[1 2 3]\n",
            " [4 5 0]\n",
            " [7 8 6]]\n",
            "[[1 2 3]\n",
            " [4 5 6]\n",
            " [7 8 0]]\n"
          ]
        }
      ],
      "source": [
        "import numpy as np\n",
        "import heapq\n",
        "\n",
        "class PuzzleState:\n",
        "    def __init__(self, board, empty_pos, moves=0, prev=None):\n",
        "        self.board = board\n",
        "        self.empty_pos = empty_pos\n",
        "        self.moves = moves\n",
        "        self.prev = prev\n",
        "        self.goal = np.array([[1, 2, 3], [4, 5, 6], [7, 8, 0]])\n",
        "\n",
        "    def is_goal(self):\n",
        "        return np.array_equal(self.board, self.goal)\n",
        "\n",
        "    def get_moves(self):\n",
        "        x, y = self.empty_pos\n",
        "        return [(x + dx, y + dy) for dx, dy in [(-1, 0), (1, 0), (0, -1), (0, 1)] if 0 <= x + dx < 3 and 0 <= y + dy < 3]\n",
        "\n",
        "    def move(self, new_pos):\n",
        "        new_board = self.board.copy()\n",
        "        new_board[self.empty_pos], new_board[new_pos] = new_board[new_pos], new_board[self.empty_pos]\n",
        "        return PuzzleState(new_board, new_pos, self.moves + 1, self)\n",
        "\n",
        "    def heuristic(self):\n",
        "        return sum(abs(i - (val - 1) // 3) + abs(j - (val - 1) % 3) for i, row in enumerate(self.board) for j, val in enumerate(row) if val)\n",
        "\n",
        "    def __lt__(self, other):\n",
        "        return (self.moves + self.heuristic()) < (other.moves + other.heuristic())\n",
        "\n",
        "def a_star_search(initial_board):\n",
        "    empty_pos = tuple(map(int, np.argwhere(initial_board == 0)[0]))\n",
        "    initial_state = PuzzleState(initial_board, empty_pos)\n",
        "    queue, visited = [initial_state], set()\n",
        "\n",
        "    while queue:\n",
        "        current = heapq.heappop(queue)\n",
        "        if current.is_goal():\n",
        "            return current\n",
        "        visited.add(tuple(map(tuple, current.board)))\n",
        "\n",
        "        for move in current.get_moves():\n",
        "            new_state = current.move(move)\n",
        "            if tuple(map(tuple, new_state.board)) not in visited:\n",
        "                heapq.heappush(queue, new_state)\n",
        "\n",
        "def print_solution(solution):\n",
        "    path = []\n",
        "    while solution:\n",
        "        path.append(solution.board)\n",
        "        solution = solution.prev\n",
        "    for board in reversed(path):\n",
        "        print(board)\n",
        "\n",
        "if __name__ == \"__main__\":\n",
        "    initial_board = np.array([[1, 2, 3], [5, 6, 0], [7, 8, 4]])\n",
        "    solution = a_star_search(initial_board)\n",
        "    if solution:\n",
        "        print(\"Solution found:\")\n",
        "        print_solution(solution)\n",
        "    else:\n",
        "        print(\"No solution exists.\")"
      ]
    }
  ]
}