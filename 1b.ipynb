{
  "nbformat": 4,
  "nbformat_minor": 0,
  "metadata": {
    "colab": {
      "provenance": [],
      "authorship_tag": "ABX9TyPLkD+Wxdb0FDcr1E1IlKfu",
      "include_colab_link": true
    },
    "kernelspec": {
      "name": "python3",
      "display_name": "Python 3"
    },
    "language_info": {
      "name": "python"
    }
  },
  "cells": [
    {
      "cell_type": "markdown",
      "metadata": {
        "id": "view-in-github",
        "colab_type": "text"
      },
      "source": [
        "<a href=\"https://colab.research.google.com/github/Himaja2304/AI-01/blob/main/1b.ipynb\" target=\"_parent\"><img src=\"https://colab.research.google.com/assets/colab-badge.svg\" alt=\"Open In Colab\"/></a>"
      ]
    },
    {
      "cell_type": "code",
      "execution_count": 1,
      "metadata": {
        "colab": {
          "base_uri": "https://localhost:8080/"
        },
        "id": "58KJtodFE4Oy",
        "outputId": "db41b12f-9667-44c1-9944-15461e5c6751"
      },
      "outputs": [
        {
          "output_type": "stream",
          "name": "stdout",
          "text": [
            "\n",
            "Step 1:\n",
            "Current room states: {'A': 'Dirty', 'B': 'Dirty', 'C': 'Dirty', 'D': 'Dirty'}\n",
            "Room A is dirty. Cleaning now...\n",
            "Room A is now clean.\n",
            "Moving to room B.\n",
            "\n",
            "Step 2:\n",
            "Current room states: {'A': 'Clean', 'B': 'Dirty', 'C': 'Dirty', 'D': 'Dirty'}\n",
            "Room B is dirty. Cleaning now...\n",
            "Room B is now clean.\n",
            "Moving to room C.\n",
            "\n",
            "Step 3:\n",
            "Current room states: {'A': 'Clean', 'B': 'Clean', 'C': 'Dirty', 'D': 'Dirty'}\n",
            "Room C is dirty. Cleaning now...\n",
            "Room C is now clean.\n",
            "Moving to room D.\n",
            "\n",
            "Step 4:\n",
            "Current room states: {'A': 'Clean', 'B': 'Clean', 'C': 'Clean', 'D': 'Dirty'}\n",
            "Room D is dirty. Cleaning now...\n",
            "Room D is now clean.\n",
            "Moving to room A.\n",
            "\n",
            "All rooms are clean!\n"
          ]
        }
      ],
      "source": [
        "class SimpleReflexAgent:\n",
        "    def __init__(self):\n",
        "        self.current_room = 'A'  # Start in room A\n",
        "        self.rooms = ['A', 'B', 'C', 'D']  # List of rooms\n",
        "\n",
        "    def perceive(self, room_states):\n",
        "        \"\"\"Perceive the current room's state.\"\"\"\n",
        "        return room_states[self.current_room]\n",
        "\n",
        "    def act(self, room_states):\n",
        "        \"\"\"Perform an action based on the room's state.\"\"\"\n",
        "        if self.perceive(room_states) == 'Dirty':\n",
        "            print(f\"Room {self.current_room} is dirty. Cleaning now...\")\n",
        "            room_states[self.current_room] = 'Clean'  # Update room state to clean\n",
        "            print(f\"Room {self.current_room} is now clean.\")\n",
        "        else:\n",
        "            print(f\"Room {self.current_room} is already clean.\")\n",
        "\n",
        "        # Move to the next room\n",
        "        self.move_to_next_room()\n",
        "\n",
        "    def move_to_next_room(self):\n",
        "        \"\"\"Move to the next room.\"\"\"\n",
        "        current_index = self.rooms.index(self.current_room)\n",
        "        next_index = (current_index + 1) % len(self.rooms)  # Loop back to A after D\n",
        "        self.current_room = self.rooms[next_index]\n",
        "        print(f\"Moving to room {self.current_room}.\")\n",
        "\n",
        "# Initialize the environment\n",
        "room_states = {\n",
        "    'A': 'Dirty',\n",
        "    'B': 'Dirty',\n",
        "    'C': 'Dirty',\n",
        "    'D': 'Dirty',\n",
        "}\n",
        "\n",
        "# Create the agent\n",
        "agent = SimpleReflexAgent()\n",
        "\n",
        "# Run the agent until all rooms are clean\n",
        "step = 1\n",
        "while any(state == 'Dirty' for state in room_states.values()):\n",
        "    print(f\"\\nStep {step}:\")\n",
        "    print(f\"Current room states: {room_states}\")\n",
        "    agent.act(room_states)\n",
        "    step += 1\n",
        "\n",
        "print(\"\\nAll rooms are clean!\")"
      ]
    }
  ]
}